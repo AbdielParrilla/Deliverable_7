{
  "nbformat": 4,
  "nbformat_minor": 0,
  "metadata": {
    "colab": {
      "provenance": []
    },
    "kernelspec": {
      "name": "python3",
      "display_name": "Python 3"
    },
    "language_info": {
      "name": "python"
    }
  },
  "cells": [
    {
      "cell_type": "code",
      "execution_count": null,
      "metadata": {
        "colab": {
          "base_uri": "https://localhost:8080/"
        },
        "id": "rff8LpdRe83I",
        "outputId": "12436315-756f-40c1-d459-201eacc16266"
      },
      "outputs": [
        {
          "output_type": "stream",
          "name": "stdout",
          "text": [
            "Enter a positive integer: 4\n",
            "   Even  Odd  Fibonacci\n",
            "0     0    1          0\n",
            "1     2    3          1\n",
            "2     4    5          1\n",
            "3     6    7          2\n"
          ]
        }
      ],
      "source": [
        "import pandas as pd\n",
        "\n",
        "# ask the user for input\n",
        "n = int(input(\"Enter a positive integer: \"))\n",
        "\n",
        "# check if n is greater than 0\n",
        "if n > 0:\n",
        "    # create lists for the sequences\n",
        "    even_nums = [2*i for i in range(n)]\n",
        "    odd_nums = [2*i+1 for i in range(n)]\n",
        "    fib_nums = [0, 1]\n",
        "    while len(fib_nums) < n:\n",
        "        next_num = fib_nums[-1] + fib_nums[-2]\n",
        "        fib_nums.append(next_num)\n",
        "\n",
        "    # create a dictionary to store the sequences\n",
        "    sequences = {\"Even\": even_nums, \"Odd\": odd_nums, \"Fibonacci\": fib_nums}\n",
        "\n",
        "    # create a pandas data frame from the dictionary\n",
        "    df = pd.DataFrame.from_dict(sequences)\n",
        "\n",
        "    # display the data frame\n",
        "    print(df)\n",
        "\n",
        "else:\n",
        "    print(\"Please enter a positive integer.\")\n"
      ]
    }
  ]
}